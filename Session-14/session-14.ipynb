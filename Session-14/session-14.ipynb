{
 "cells": [
  {
   "cell_type": "code",
   "execution_count": 180,
   "metadata": {},
   "outputs": [],
   "source": [
    "import math\n",
    "class Polygon:\n",
    "    def __init__(self, e, r):\n",
    "        self._edge = e\n",
    "        self._radius = r\n",
    "        \n",
    "    @property\n",
    "    def edge(self): \n",
    "          return self._edge\n",
    "        \n",
    "    @property\n",
    "    def radius(self): \n",
    "        return self._radius\n",
    "    \n",
    "    \n",
    "    @edge.setter\n",
    "    def edge(self, side):\n",
    "            if(side < 2): \n",
    "                raise ValueError(\"wrong value\")\n",
    "            self._edge = side\n",
    "    @radius.setter\n",
    "    def radius(self, rad):\n",
    "            if(rad < 0): \n",
    "                raise ValueError(\"wrong value\")\n",
    "            self._radius = rad\n",
    "   \n",
    "    \n",
    "    \n",
    "    def interiorangle(self):\n",
    "        return int((self._edge-2)*180/self._edge)\n",
    "    \n",
    "    def edgelength(self):\n",
    "        self.edgelen = 2*self._radius*math.sin(math.pi/self._edge)\n",
    "        return self.edgelen\n",
    "    \n",
    "    def apothem (self):\n",
    "        self.apo = self._radius*math.cos(math.pi/self._edge)\n",
    "        return self.apo\n",
    "    \n",
    "   \n",
    "    def area(self):\n",
    "        return 0.5*self._edge*self.edgelength()*self.apothem()\n",
    "    \n",
    "   \n",
    "    def perimeter(self):\n",
    "        return self._edge*self.edgelength()\n",
    "    \n",
    "    def __repr__(self):\n",
    "        return f'{self.edge} sided polygon created having circumradius:{self.radius}'\n",
    "\n",
    "    def __eq__(self, other):\n",
    "        return self._edge == other._edge and self._radius == other._radius\n",
    "        return False\n",
    "    \n",
    "    def __gt__(self, other):\n",
    "        return self._edge > other._edge \n",
    "        return False"
   ]
  },
  {
   "cell_type": "code",
   "execution_count": 181,
   "metadata": {},
   "outputs": [
    {
     "data": {
      "text/plain": [
       "True"
      ]
     },
     "execution_count": 181,
     "metadata": {},
     "output_type": "execute_result"
    }
   ],
   "source": [
    "pol1 = Polygon(4,2) \n",
    "  \n",
    "pol1.edge = 4\n",
    "pol1.radius = 2\n",
    "\n",
    "pol2 = Polygon(4,2) \n",
    "  \n",
    "pol2.edge = 2\n",
    "pol2.radius = 3\n",
    "  \n",
    "pol1>pol2"
   ]
  },
  {
   "cell_type": "code",
   "execution_count": 182,
   "metadata": {},
   "outputs": [
    {
     "data": {
      "text/plain": [
       "90"
      ]
     },
     "execution_count": 182,
     "metadata": {},
     "output_type": "execute_result"
    }
   ],
   "source": [
    "pol.interiorangle()"
   ]
  },
  {
   "cell_type": "code",
   "execution_count": 183,
   "metadata": {},
   "outputs": [
    {
     "data": {
      "text/plain": [
       "2.82842712474619"
      ]
     },
     "execution_count": 183,
     "metadata": {},
     "output_type": "execute_result"
    }
   ],
   "source": [
    "pol.edgelength()"
   ]
  },
  {
   "cell_type": "code",
   "execution_count": 184,
   "metadata": {},
   "outputs": [
    {
     "data": {
      "text/plain": [
       "1.4142135623730951"
      ]
     },
     "execution_count": 184,
     "metadata": {},
     "output_type": "execute_result"
    }
   ],
   "source": [
    "pol.apothem()"
   ]
  },
  {
   "cell_type": "code",
   "execution_count": 185,
   "metadata": {},
   "outputs": [
    {
     "data": {
      "text/plain": [
       "8.0"
      ]
     },
     "execution_count": 185,
     "metadata": {},
     "output_type": "execute_result"
    }
   ],
   "source": [
    "pol.area()"
   ]
  },
  {
   "cell_type": "code",
   "execution_count": 186,
   "metadata": {},
   "outputs": [
    {
     "data": {
      "text/plain": [
       "11.31370849898476"
      ]
     },
     "execution_count": 186,
     "metadata": {},
     "output_type": "execute_result"
    }
   ],
   "source": [
    "pol.perimeter()"
   ]
  },
  {
   "cell_type": "code",
   "execution_count": null,
   "metadata": {},
   "outputs": [],
   "source": []
  },
  {
   "cell_type": "code",
   "execution_count": 299,
   "metadata": {},
   "outputs": [],
   "source": [
    "class Seq_Polygon:\n",
    "    def __init__(self, num):\n",
    "        self.vertices = num\n",
    "        \n",
    "    \n",
    "    def __getitem__(self, s):\n",
    "        if isinstance(s, int):\n",
    "            if s < 3 or s >=self.vertices:\n",
    "                raise IndexError\n",
    "            else:\n",
    "                return Seq_Polygon._maxeffpolygon(s)\n",
    "    \n",
    "    def __len__(self):\n",
    "        return self.vertices\n",
    "    \n",
    "    @staticmethod\n",
    "    def _maxeffpolygon(c):\n",
    "        max_ratio = 0\n",
    "        radius = 5\n",
    "        for i in range(3,c+1):\n",
    "            pol = Polygon(i, radius)\n",
    "            #print(pol.area())\n",
    "            r = pol.area()/pol.perimeter()\n",
    "            print(r)\n",
    "            if r > max_ratio:\n",
    "                max_ratio = r\n",
    "                side_len = i\n",
    "        return side_len, r\n",
    "            \n",
    "    def __repr__(self):\n",
    "        return f'This polygon sequence is called with number of vertices for largest polygon:{self._vertices}'"
   ]
  },
  {
   "cell_type": "code",
   "execution_count": 307,
   "metadata": {},
   "outputs": [],
   "source": [
    "p = Seq_Polygon(25)"
   ]
  },
  {
   "cell_type": "code",
   "execution_count": 311,
   "metadata": {},
   "outputs": [
    {
     "name": "stdout",
     "output_type": "stream",
     "text": [
      "1.2500000000000002\n",
      "1.7677669529663689\n",
      "2.0225424859373686\n",
      "2.165063509461097\n",
      "2.252422169756048\n",
      "2.309698831278217\n",
      "2.3492315519647713\n",
      "2.3776412907378837\n",
      "2.3987324340362433\n",
      "2.4148145657226707\n",
      "2.42735454356513\n",
      "2.437319780454559\n",
      "2.4453690018345142\n",
      "2.451963201008076\n",
      "2.4574327492097545\n",
      "2.46201938253052\n",
      "2.4659032585068057\n",
      "2.4692208514878446\n",
      "2.4720770655628215\n",
      "2.4745536047023315\n",
      "2.476714865090827\n",
      "2.478612153434526\n",
      "2.4802867532861947\n"
     ]
    },
    {
     "data": {
      "text/plain": [
       "(25, 2.4802867532861947)"
      ]
     },
     "execution_count": 311,
     "metadata": {},
     "output_type": "execute_result"
    }
   ],
   "source": [
    "Seq_Polygon._maxeffpolygon(25)"
   ]
  },
  {
   "cell_type": "code",
   "execution_count": 302,
   "metadata": {},
   "outputs": [
    {
     "name": "stdout",
     "output_type": "stream",
     "text": [
      "1.2500000000000002\n",
      "1.7677669529663689\n"
     ]
    },
    {
     "data": {
      "text/plain": [
       "(4, 1.7677669529663689)"
      ]
     },
     "execution_count": 302,
     "metadata": {},
     "output_type": "execute_result"
    }
   ],
   "source": [
    "\n",
    "p[4]"
   ]
  },
  {
   "cell_type": "code",
   "execution_count": 303,
   "metadata": {},
   "outputs": [
    {
     "name": "stdout",
     "output_type": "stream",
     "text": [
      "1.2500000000000002\n",
      "1.7677669529663689\n",
      "2.0225424859373686\n"
     ]
    },
    {
     "data": {
      "text/plain": [
       "(5, 2.0225424859373686)"
      ]
     },
     "execution_count": 303,
     "metadata": {},
     "output_type": "execute_result"
    }
   ],
   "source": [
    "p[5]"
   ]
  },
  {
   "cell_type": "code",
   "execution_count": 304,
   "metadata": {},
   "outputs": [
    {
     "data": {
      "text/plain": [
       "[]"
      ]
     },
     "execution_count": 304,
     "metadata": {},
     "output_type": "execute_result"
    }
   ],
   "source": [
    "list(p)"
   ]
  },
  {
   "cell_type": "code",
   "execution_count": 305,
   "metadata": {},
   "outputs": [
    {
     "name": "stdout",
     "output_type": "stream",
     "text": [
      "1.2500000000000002\n",
      "1.2500000000000002\n",
      "1.7677669529663689\n",
      "2.0225424859373686\n",
      "2.165063509461097\n",
      "2.252422169756048\n",
      "1.2500000000000002\n",
      "1.7677669529663689\n",
      "2.0225424859373686\n",
      "2.165063509461097\n",
      "2.252422169756048\n",
      "2.309698831278217\n",
      "2.3492315519647713\n"
     ]
    },
    {
     "data": {
      "text/plain": [
       "((3, 1.2500000000000002), (7, 2.252422169756048), (9, 2.3492315519647713))"
      ]
     },
     "execution_count": 305,
     "metadata": {},
     "output_type": "execute_result"
    }
   ],
   "source": [
    "p[3], p[7], p[9]"
   ]
  },
  {
   "cell_type": "code",
   "execution_count": 306,
   "metadata": {},
   "outputs": [
    {
     "name": "stdout",
     "output_type": "stream",
     "text": [
      "1.2500000000000002\n",
      "1.7677669529663689\n",
      "2.0225424859373686\n"
     ]
    },
    {
     "data": {
      "text/plain": [
       "2"
      ]
     },
     "execution_count": 306,
     "metadata": {},
     "output_type": "execute_result"
    }
   ],
   "source": [
    "len(p[5])"
   ]
  },
  {
   "cell_type": "code",
   "execution_count": 297,
   "metadata": {},
   "outputs": [
    {
     "ename": "IndexError",
     "evalue": "",
     "output_type": "error",
     "traceback": [
      "\u001b[0;31m---------------------------------------------------------------------------\u001b[0m",
      "\u001b[0;31mIndexError\u001b[0m                                Traceback (most recent call last)",
      "\u001b[0;32m<ipython-input-297-2daa4f61eafa>\u001b[0m in \u001b[0;36m<module>\u001b[0;34m\u001b[0m\n\u001b[0;32m----> 1\u001b[0;31m \u001b[0mp\u001b[0m\u001b[0;34m[\u001b[0m\u001b[0;36m19\u001b[0m\u001b[0;34m]\u001b[0m\u001b[0;34m\u001b[0m\u001b[0;34m\u001b[0m\u001b[0m\n\u001b[0m",
      "\u001b[0;32m<ipython-input-289-bd7f7a6b5a54>\u001b[0m in \u001b[0;36m__getitem__\u001b[0;34m(self, s)\u001b[0m\n\u001b[1;32m      7\u001b[0m         \u001b[0;32mif\u001b[0m \u001b[0misinstance\u001b[0m\u001b[0;34m(\u001b[0m\u001b[0ms\u001b[0m\u001b[0;34m,\u001b[0m \u001b[0mint\u001b[0m\u001b[0;34m)\u001b[0m\u001b[0;34m:\u001b[0m\u001b[0;34m\u001b[0m\u001b[0;34m\u001b[0m\u001b[0m\n\u001b[1;32m      8\u001b[0m             \u001b[0;32mif\u001b[0m \u001b[0ms\u001b[0m \u001b[0;34m<\u001b[0m \u001b[0;36m3\u001b[0m \u001b[0;32mor\u001b[0m \u001b[0ms\u001b[0m \u001b[0;34m>=\u001b[0m\u001b[0mself\u001b[0m\u001b[0;34m.\u001b[0m\u001b[0m_vertices\u001b[0m\u001b[0;34m:\u001b[0m\u001b[0;34m\u001b[0m\u001b[0;34m\u001b[0m\u001b[0m\n\u001b[0;32m----> 9\u001b[0;31m                 \u001b[0;32mraise\u001b[0m \u001b[0mIndexError\u001b[0m\u001b[0;34m\u001b[0m\u001b[0;34m\u001b[0m\u001b[0m\n\u001b[0m\u001b[1;32m     10\u001b[0m             \u001b[0;32melse\u001b[0m\u001b[0;34m:\u001b[0m\u001b[0;34m\u001b[0m\u001b[0;34m\u001b[0m\u001b[0m\n\u001b[1;32m     11\u001b[0m                 \u001b[0;32mreturn\u001b[0m \u001b[0mSeq_Polygon\u001b[0m\u001b[0;34m.\u001b[0m\u001b[0m_maxeffpolygon\u001b[0m\u001b[0;34m(\u001b[0m\u001b[0ms\u001b[0m\u001b[0;34m)\u001b[0m\u001b[0;34m\u001b[0m\u001b[0;34m\u001b[0m\u001b[0m\n",
      "\u001b[0;31mIndexError\u001b[0m: "
     ]
    }
   ],
   "source": [
    "p[19]"
   ]
  },
  {
   "cell_type": "code",
   "execution_count": null,
   "metadata": {},
   "outputs": [],
   "source": []
  }
 ],
 "metadata": {
  "kernelspec": {
   "display_name": "Python 3",
   "language": "python",
   "name": "python3"
  },
  "language_info": {
   "codemirror_mode": {
    "name": "ipython",
    "version": 3
   },
   "file_extension": ".py",
   "mimetype": "text/x-python",
   "name": "python",
   "nbconvert_exporter": "python",
   "pygments_lexer": "ipython3",
   "version": "3.8.3"
  }
 },
 "nbformat": 4,
 "nbformat_minor": 4
}
