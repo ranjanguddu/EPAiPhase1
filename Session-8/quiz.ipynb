{
  "nbformat": 4,
  "nbformat_minor": 0,
  "metadata": {
    "colab": {
      "name": "Untitled35.ipynb",
      "provenance": [],
      "authorship_tag": "ABX9TyPku1ATiWcmTHTl94j7u74Y",
      "include_colab_link": true
    },
    "kernelspec": {
      "name": "python3",
      "display_name": "Python 3"
    }
  },
  "cells": [
    {
      "cell_type": "markdown",
      "metadata": {
        "id": "view-in-github",
        "colab_type": "text"
      },
      "source": [
        "<a href=\"https://colab.research.google.com/github/ranjanguddu/EPAiPhase1/blob/master/Session-8/quiz.ipynb\" target=\"_parent\"><img src=\"https://colab.research.google.com/assets/colab-badge.svg\" alt=\"Open In Colab\"/></a>"
      ]
    },
    {
      "cell_type": "code",
      "metadata": {
        "id": "Y0y2lPSVrkTW",
        "colab_type": "code",
        "colab": {}
      },
      "source": [
        "def counter(fn):\n",
        "    tab_1 = 0\n",
        "    tab_2 = 0\n",
        "    tab_3 = 0\n",
        "    tab_4 = 0\n",
        "    def inner1(*args, **kwargs):\n",
        "        nonlocal tab_1\n",
        "        tab_1 += 1\n",
        "        print('{0} has been called {1} times'.format(fn.__name__, tab_1))\n",
        "        return fn(*args, **kwargs)\n",
        "    return inner1\n",
        "\n",
        "    def inner2(*args, **kwargs):\n",
        "        nonlocal tab_1\n",
        "        tab_2 += 1\n",
        "        print('{0} has been called {1} times'.format(fn.__name__, tab_1))\n",
        "        return fn(*args, **kwargs)\n",
        "    return inner2\n",
        "\n",
        "    def inner3(*args, **kwargs):\n",
        "        nonlocal tab_1\n",
        "        tab_3 += 1\n",
        "        print('{0} has been called {1} times'.format(fn.__name__, tab_1))\n",
        "        return fn(*args, **kwargs)\n",
        "    return inner3\n",
        "\n",
        "    def inner4(*args, **kwargs):\n",
        "        nonlocal tab_1\n",
        "        tab_4 += 1\n",
        "        print('{0} has been called {1} times'.format(fn.__name__, tab_1))\n",
        "        return fn(*args, **kwargs)\n",
        "    return inner4\n",
        "\n",
        "\n",
        "\n",
        "\n",
        "\n"
      ],
      "execution_count": 6,
      "outputs": []
    },
    {
      "cell_type": "code",
      "metadata": {
        "id": "x4RzdKLgrqIX",
        "colab_type": "code",
        "colab": {}
      },
      "source": [
        "def tab1():\n",
        "    pass\n",
        "def tab2():\n",
        "    pass\n",
        "def tab3():\n",
        "    pass\n",
        "def tab4():\n",
        "    pass\n"
      ],
      "execution_count": 7,
      "outputs": []
    },
    {
      "cell_type": "code",
      "metadata": {
        "id": "jMG_q1FHrsKn",
        "colab_type": "code",
        "colab": {}
      },
      "source": [
        "counter_1 = counter(tab1)\n",
        "counter_2 = counter(tab2)\n",
        "counter_3 = counter(tab3)\n",
        "counter_4 = counter(tab4)"
      ],
      "execution_count": 8,
      "outputs": []
    },
    {
      "cell_type": "code",
      "metadata": {
        "id": "qrc01GJTrt2T",
        "colab_type": "code",
        "colab": {
          "base_uri": "https://localhost:8080/",
          "height": 85
        },
        "outputId": "e0a2cd3e-f089-47cc-bbc9-6efe620455b8"
      },
      "source": [
        "counter_1()\n",
        "counter_2()\n",
        "counter_3()\n",
        "counter_4()"
      ],
      "execution_count": 9,
      "outputs": [
        {
          "output_type": "stream",
          "text": [
            "tab1 has been called 1 times\n",
            "tab2 has been called 1 times\n",
            "tab3 has been called 1 times\n",
            "tab4 has been called 1 times\n"
          ],
          "name": "stdout"
        }
      ]
    },
    {
      "cell_type": "code",
      "metadata": {
        "id": "mmcNN1U1r2cW",
        "colab_type": "code",
        "colab": {
          "base_uri": "https://localhost:8080/",
          "height": 85
        },
        "outputId": "ea33d381-8466-4bc7-e201-fc755d5234b6"
      },
      "source": [
        "counter_1()\n",
        "counter_2()\n",
        "counter_3()\n",
        "counter_4()"
      ],
      "execution_count": 10,
      "outputs": [
        {
          "output_type": "stream",
          "text": [
            "tab1 has been called 2 times\n",
            "tab2 has been called 2 times\n",
            "tab3 has been called 2 times\n",
            "tab4 has been called 2 times\n"
          ],
          "name": "stdout"
        }
      ]
    },
    {
      "cell_type": "code",
      "metadata": {
        "id": "nUIgFhjxr5JY",
        "colab_type": "code",
        "colab": {
          "base_uri": "https://localhost:8080/",
          "height": 51
        },
        "outputId": "95d09473-56d1-4175-dd82-b3fdf13c01c2"
      },
      "source": [
        "counter_2()\n",
        "counter_3()"
      ],
      "execution_count": 11,
      "outputs": [
        {
          "output_type": "stream",
          "text": [
            "tab2 has been called 3 times\n",
            "tab3 has been called 3 times\n"
          ],
          "name": "stdout"
        }
      ]
    },
    {
      "cell_type": "code",
      "metadata": {
        "id": "9B12TL9usKCR",
        "colab_type": "code",
        "colab": {
          "base_uri": "https://localhost:8080/",
          "height": 34
        },
        "outputId": "8cbce3a7-d615-468d-b232-664521218d1f"
      },
      "source": [
        "counter_4()"
      ],
      "execution_count": 13,
      "outputs": [
        {
          "output_type": "stream",
          "text": [
            "tab4 has been called 3 times\n"
          ],
          "name": "stdout"
        }
      ]
    },
    {
      "cell_type": "code",
      "metadata": {
        "id": "jDHnzRJssL5V",
        "colab_type": "code",
        "colab": {}
      },
      "source": [
        ""
      ],
      "execution_count": null,
      "outputs": []
    }
  ]
}