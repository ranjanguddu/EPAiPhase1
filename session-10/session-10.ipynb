{
  "nbformat": 4,
  "nbformat_minor": 0,
  "metadata": {
    "colab": {
      "name": "Untitled1.ipynb",
      "provenance": [],
      "authorship_tag": "ABX9TyM76m9YPwRfoPrskMKrrBA9",
      "include_colab_link": true
    },
    "kernelspec": {
      "name": "python3",
      "display_name": "Python 3"
    }
  },
  "cells": [
    {
      "cell_type": "markdown",
      "metadata": {
        "id": "view-in-github",
        "colab_type": "text"
      },
      "source": [
        "<a href=\"https://colab.research.google.com/github/ranjanguddu/EPAiPhase1/blob/master/session-10/session-10.ipynb\" target=\"_parent\"><img src=\"https://colab.research.google.com/assets/colab-badge.svg\" alt=\"Open In Colab\"/></a>"
      ]
    },
    {
      "cell_type": "code",
      "metadata": {
        "id": "qJpWdXGN9WCx"
      },
      "source": [
        "pip install faker"
      ],
      "execution_count": null,
      "outputs": []
    },
    {
      "cell_type": "code",
      "metadata": {
        "id": "RI751jIr9CMc"
      },
      "source": [
        "from faker import Faker\n",
        "from datetime import date, datetime, timezone\n",
        "from time import perf_counter, localtime\n",
        "from functools import wraps\n",
        "import random\n",
        "import pandas as pd\n",
        "from time import perf_counter\n",
        "from collections import namedtuple\n",
        "from collections import defaultdict"
      ],
      "execution_count": 3,
      "outputs": []
    },
    {
      "cell_type": "code",
      "metadata": {
        "id": "VDykJxYP9Mlu",
        "outputId": "36d48711-d08a-41a1-ffc6-1509aab3b531",
        "colab": {
          "base_uri": "https://localhost:8080/",
          "height": 34
        }
      },
      "source": [
        "fake = Faker(['it_IT','en_IN'])\n",
        "random_profile = namedtuple('Profile', ['name', 'age', 'sex', 'blood_group', 'location'])\n",
        "\n",
        "\n",
        "# calculate the age of the person\n",
        "find_age = lambda birthdate: int((date.today() - birthdate).days / 365)\n",
        "\n",
        "# REPEAT DECORATOR\n",
        "def repeat(n: int):\n",
        "\t\"\"\"\n",
        "\tThis decorator is suppose to time the function. \n",
        "\t\"\"\"\n",
        "\tdef timed(fn):\n",
        "\t\tdef inner(*args, **kwargs):\n",
        "\t\t\ttotal_elapsed = 0\n",
        "\t\t\t\n",
        "\t\t\tfor _ in range(n):\n",
        "\t\t\t\tstart = perf_counter()\n",
        "\t\t\t\tresult = fn(*args, **kwargs)\n",
        "\t\t\t\ttotal_elapsed += (perf_counter() - start)\n",
        "\n",
        "\t\t\tavg_run_time = total_elapsed / n\n",
        "\t\t\tprint(f'Average Run time of {fn.__name__} is : {avg_run_time} for {n} reps.')\n",
        "\t\t\treturn result\n",
        "\t\treturn inner\n",
        "\treturn timed\n",
        "\n",
        "\n",
        "profile_list = []\n",
        "\n",
        "@repeat(10)\n",
        "def generate_random_profile(n: int):\n",
        "\t\"\"\"\n",
        "\tThis function suppose to generate n no of random profile using named Dictionary\n",
        "\t\"\"\"\n",
        "\tblood_type = defaultdict(lambda : 0)\n",
        "\t#print(f'blood type:{blood_type}')\n",
        "\tfor _ in range(n):\n",
        "\t\tprof = fake.profile()\n",
        "\t\tprofile = random_profile(prof['name'], find_age(prof['birthdate']), prof['sex'], prof['blood_group'], prof['current_location'])\n",
        "\t\tprofile_list.append(profile)\n",
        "\t\tblood_type[profile.blood_group] +=1\n",
        "\t\t\n",
        "\tav_age = sum([i.age for i in profile_list])/len(profile_list)\n",
        "\toldest = max([i.age for i in profile_list])\n",
        "\tmean_loaction = sum([i.location[0] for i in profile_list])/len(profile_list), sum([i.location[1] for i in profile_list])/len(profile_list)\n",
        "\tlargest_blood_group = sorted(blood_type.items(), key=lambda x: x[1], reverse=True)[0]\n",
        "\treturn f'average age:{av_age} years,oldest one is of {oldest} years, mean location:{mean_loaction}, largest_blood:{largest_blood_group}'\n",
        "\n",
        "res = generate_random_profile(1000)"
      ],
      "execution_count": 4,
      "outputs": [
        {
          "output_type": "stream",
          "text": [
            "Average Run time of generate_random_profile is : 1.9618635177000043 for 10 reps.\n"
          ],
          "name": "stdout"
        }
      ]
    },
    {
      "cell_type": "code",
      "metadata": {
        "id": "LYY1tMXq9rLO",
        "outputId": "4f7f9d91-bbd9-4f1e-b74c-9dd6515ebdcb",
        "colab": {
          "base_uri": "https://localhost:8080/",
          "height": 104
        }
      },
      "source": [
        "profile_list_dict = []\n",
        "blood_type = defaultdict(lambda: 0)\n",
        "\n",
        "\n",
        "@repeat(10)\n",
        "def generate_random_profile_dicts(n: int):\n",
        "\t\"\"\"\n",
        "\tThis function suppose to generate n no of random profile using Dictionary\n",
        "\t\"\"\"\n",
        "\tfor _ in range(n):\n",
        "\t\tprofile_dict =  defaultdict(lambda :0)\n",
        "\t\tfake_prof = fake.profile()\n",
        "\t\tattribue = ['name', 'birthdate', 'sex', 'blood_group', 'current_location']\n",
        "\t\tfor key in attribue:\n",
        "\t\t\t#print(\"hello\")\n",
        "\t\t\tprofile_dict[key] = fake_prof[key]\n",
        "\t\t\t\n",
        "\t\tage = find_age(fake_prof['birthdate'])\n",
        "\t\tprofile_dict['age'] = age\n",
        "\n",
        "\t\tblood_type[profile_dict['blood_group']] += 1\n",
        "\t\tprofile_list_dict.append(profile_dict)\n",
        "\n",
        "\tavg_age = sum([item['age']for item in profile_list_dict])/len(profile_list_dict)\n",
        "\tmax_age = max([item['age']for item in profile_list_dict])\n",
        "\tmean_loc = sum([item['current_location'][0] for item in profile_list_dict])/len(profile_list_dict), sum([item['current_location'][1] for item in profile_list_dict])/len(profile_list_dict) \n",
        "\t#print(type(mean_loc))\n",
        "\treturn f'Average age:{avg_age} years.\\n Oldest person: {max_age} years\\nThe loaction:({mean_loc} Degrees.\\\n",
        "\t\t\t \\nLargest Blood Category:{sorted(blood_type.items(), key=lambda x: x[1], reverse=True)[0]}'\n",
        "\n",
        "\t#print(profile_list_dict)\n",
        "res = generate_random_profile_dicts(1000)\n",
        "print(res)"
      ],
      "execution_count": 5,
      "outputs": [
        {
          "output_type": "stream",
          "text": [
            "Average Run time of generate_random_profile_dicts is : 1.9727910967000013 for 10 reps.\n",
            "Average age:57.4113 years.\n",
            " Oldest person: 116 years\n",
            "The loaction:((Decimal('1.04972898555'), Decimal('0.1067819322')) Degrees.\t\t\t \n",
            "Largest Blood Category:('B-', 1301)\n"
          ],
          "name": "stdout"
        }
      ]
    },
    {
      "cell_type": "code",
      "metadata": {
        "id": "YZxQgdAb9wXE",
        "outputId": "26a650a9-1a08-4e37-8ea4-8952e31ea1e9",
        "colab": {
          "base_uri": "https://localhost:8080/",
          "height": 139
        }
      },
      "source": [
        "symbol_generator =  lambda x:x[:3]+'_SYMB'.upper()\n",
        "companies = namedtuple('StockMarket', ['name', 'symbol', 'open', 'low', 'high', 'close'])\n",
        "weight = []\n",
        "company_stock_profiles = []\n",
        "\n",
        "def stock_exchange(n):\n",
        "\t\"\"\" This function suppose to generate n no of company's fake profile \"\"\"\n",
        "\t\n",
        "\tfor _ in range(n):\n",
        "\t\tname =  fake.company()\n",
        "\t\tsymbol= symbol_generator(name)\n",
        "\t\t#print(f'{name}:{symbol}')\n",
        "\t\topen_value = random.randint(100, 4000)\n",
        "\t\tcomp_weight = random.uniform(0, 0.8)\n",
        "\n",
        "\t\tweight.append(comp_weight)\n",
        "\n",
        "\t\tcomp_contrib = round(open_value * comp_weight/sum(weight), 3)\n",
        "\n",
        "\t\thigh_value = round(random.uniform(1.0, 1.2) * open_value * comp_weight/sum(weight), 3)\n",
        "\t\tclose_value = round(random.uniform(0.6,0.8) * open_value * comp_weight/sum(weight), 3)\n",
        "\t\tlow_value = round(random.uniform(0.2, 0.4) * open_value * comp_weight/sum(weight), 3)\n",
        "\n",
        "\t\tcomp_profile = companies(name, symbol, open_value, low_value, high_value, close_value)\n",
        "\t\t#print(comp_profile)\n",
        "\t\tcompany_stock_profiles.append(comp_profile)\n",
        "\t\tTotal = pd.DataFrame({\n",
        "\t\t\t\t\t'Open': ['= '+str(round(sum([i.open for i in company_stock_profiles]), 3))], \n",
        "\t\t\t\t\t'Low': ['= '+str(round(sum([i.low for i in company_stock_profiles]), 3))],\n",
        "\t\t\t\t\t'High': ['= '+str(round(sum([i.high for i in company_stock_profiles]), 3))],\n",
        "\t\t\t\t\t'Close': ['= '+str(round(sum([i.close for i in company_stock_profiles]), 3))]\n",
        "\t\t\t\t\t\t\t})\n",
        "\n",
        "\t\tstock = pd.DataFrame({'Company Name': [i.name for i in company_stock_profiles],\n",
        "\t\t\t\t\t\t\t\t'Symbol': [i.symbol for i in company_stock_profiles],\n",
        "\t\t\t\t\t\t\t\t'Open': [i.open for i in company_stock_profiles], \n",
        "\t\t\t\t\t\t\t\t'Low': [i.low for i in company_stock_profiles],\n",
        "\t\t\t\t\t\t\t\t'High': [i.high for i in company_stock_profiles],\n",
        "\t\t\t\t\t\t\t\t'Close': [i.close for i in company_stock_profiles]\n",
        "\t\t\t\t\t\t\t\t})\n",
        "\treturn stock.append(Total)\n",
        "\t\t\n",
        "\n",
        "res = stock_exchange(5)\n",
        "print(res)"
      ],
      "execution_count": 6,
      "outputs": [
        {
          "output_type": "stream",
          "text": [
            "             Company Name    Symbol    Open        Low        High       Close\n",
            "0              Moneta SPA  Mon_SYMB     302     65.097     360.836     214.135\n",
            "1          Evans and Sons  Eva_SYMB    1546     59.812     299.412     172.335\n",
            "2            Toso e figli  Tos_SYMB    3249    174.602     893.316     641.357\n",
            "3  Lettiere-Piane e figli  Let_SYMB     512     18.858       94.31      51.505\n",
            "4                Moss PLC  Mos_SYMB    3098    238.915     819.457     588.629\n",
            "0                     NaN       NaN  = 8707  = 557.284  = 2467.331  = 1667.961\n"
          ],
          "name": "stdout"
        }
      ]
    }
  ]
}